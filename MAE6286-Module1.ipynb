{
 "metadata": {
  "name": "",
  "signature": "sha256:6aeec53942fc13d2aea458ac24092a58dbd19c5ebedfee284fae6ff27ee6f55f"
 },
 "nbformat": 3,
 "nbformat_minor": 0,
 "worksheets": [
  {
   "cells": [
    {
     "cell_type": "code",
     "collapsed": false,
     "input": [
      "import numpy\n"
     ],
     "language": "python",
     "metadata": {},
     "outputs": [],
     "prompt_number": 2
    },
    {
     "cell_type": "code",
     "collapsed": false,
     "input": [
      "a = numpy.linspace(4,23,43)\n",
      "a[5]"
     ],
     "language": "python",
     "metadata": {},
     "outputs": [
      {
       "metadata": {},
       "output_type": "pyout",
       "prompt_number": 5,
       "text": [
        "6.2619047619047619"
       ]
      }
     ],
     "prompt_number": 5
    },
    {
     "cell_type": "code",
     "collapsed": false,
     "input": [
      "p = 7\n",
      "r = numpy.array([11.2, 4.7, 6.6])\n",
      "p/r"
     ],
     "language": "python",
     "metadata": {},
     "outputs": [
      {
       "metadata": {},
       "output_type": "pyout",
       "prompt_number": 8,
       "text": [
        "array([ 0.625     ,  1.4893617 ,  1.06060606])"
       ]
      }
     ],
     "prompt_number": 8
    },
    {
     "cell_type": "code",
     "collapsed": false,
     "input": [
      "spacings = numpy.array([0.04, 0.02, 0.01])\n",
      "results = numpy.array([1.600, 1.500, 1.475])\n",
      "def convergence_order(spacings, results):\n",
      "    if spacings[2]/spacings[1] == spacings[1]/spacings[0]:\n",
      "        return numpy.log((results[2] - results[1])/(results[1] - results[0])) / numpy.log(spacings[1]/spacings[0])\n",
      "    else:\n",
      "        return 0\n",
      "convergence_order(spacings, results)"
     ],
     "language": "python",
     "metadata": {},
     "outputs": [
      {
       "metadata": {},
       "output_type": "pyout",
       "prompt_number": 10,
       "text": [
        "2.0000000000000062"
       ]
      }
     ],
     "prompt_number": 10
    },
    {
     "cell_type": "code",
     "collapsed": false,
     "input": [
      "# Rocket flight coding assignment\n",
      "%pylab inline\n",
      "import numpy\n",
      "import math\n",
      "import matplotlib.pyplot as plt\n",
      "\n",
      "# Given constants\n",
      "ms = 50. # Rocket shell mass, kg\n",
      "g = 9.81 # Acceleration of gravity, m/s**2\n",
      "rho = 1.091 # Average air densigy, kg/m**3\n",
      "area = numpy.pi*(0.5)**2 # Max cross sectional area, m**2\n",
      "ve = 325. # Exhaust speed, m/s\n",
      "C_D = 0.15 # Drag coefficient\n",
      "\n",
      "\n",
      "mp_dot0 = 20. # Propellant burn rate, kg/s\n",
      "tpmax = 5. # Maximum propellant burn time at mp_dot rate, s\n",
      "\n",
      "# Initial Conditions\n",
      "h0 = 0. # Assume that the rocket starts at height = 0, m\n",
      "v0 = 0. # Assume that the rocket starts at rest, velocity = 0, m/s\n",
      "mp0 = 100. # Initial propellant mass, kg\n",
      "\n",
      "# State vector is as follows:\n",
      "# x[0] - Height, m\n",
      "# x[1] - Velocity, m/s\n",
      "# x[2] - Mass of remaining propellant, kg\n",
      "x0 = numpy.array([h0, v0, mp0])\n",
      "\n",
      "# Equations of motion\n",
      "# Propellant burn rate is a function of time so the derivative of the state vector takes time as a parameter.\n",
      "def xdot(x, t):\n",
      "    h = x[0]\n",
      "    v = x[1]\n",
      "    mp = x[2]\n",
      "    hdot = v if h >= 0 else 0\n",
      "    mp_dot = -1*mp_dot0 if t <= tpmax else 0\n",
      "    vdot = (-1*(ms + mp)*g - mp_dot*ve - 0.5*rho*v*abs(v)*area*C_D)/(ms+mp) if h >= 0 else 0\n",
      "    return numpy.array([hdot, vdot, mp_dot])\n",
      "\n",
      "# Euler method\n",
      "def euler(x0, dt, tmax, xdot):\n",
      "    n = math.ceil(tmax/dt) + 1\n",
      "    t = numpy.arange(0, n*dt, dt)\n",
      "    results = numpy.zeros((len(x0), n))\n",
      "    results[:,0] = x0\n",
      "    for i in range(1, n):\n",
      "        results[:,i] = results[:,i-1] + dt*xdot(results[:,i-1], t[i-1])\n",
      "    return t, results\n",
      "\n",
      "dt = 0.001 # Time step, s\n",
      "tmax = 50. # Max time, s\n",
      "t, results = euler(x0, dt, tmax, xdot)\n",
      "\n",
      "plt.figure()\n",
      "plt.plot(t, results[0,:])\n",
      "plt.figure()\n",
      "plt.plot(t, results[1,:])\n",
      "plt.figure()\n",
      "plt.plot(t, results[2,:])"
     ],
     "language": "python",
     "metadata": {},
     "outputs": [
      {
       "output_type": "stream",
       "stream": "stdout",
       "text": [
        "Populating the interactive namespace from numpy and matplotlib\n"
       ]
      },
      {
       "metadata": {},
       "output_type": "pyout",
       "prompt_number": 52,
       "text": [
        "[<matplotlib.lines.Line2D at 0xb0496b0c>]"
       ]
      },
      {
       "metadata": {},
       "output_type": "display_data",
       "png": "[encoded data removed]",
       "text": [
        "<matplotlib.figure.Figure at 0xb08891ec>"
       ]
      },
      {
       "metadata": {},
       "output_type": "display_data",
       "png": "[encoded data removed]",
       "text": [
        "<matplotlib.figure.Figure at 0xb050372c>"
       ]
      },
      {
       "metadata": {},
       "output_type": "display_data",
       "png": "[encoded data removed]",
       "text": [
        "<matplotlib.figure.Figure at 0xb03a8bec>"
       ]
      }
     ],
     "prompt_number": 52
    },
    {
     "cell_type": "code",
     "collapsed": false,
     "input": [
      "print(\"Mass of propellant at t = 3.2s:\", results[2,t <= 3.2][-1])\n",
      "\n",
      "vmax = numpy.max(numpy.abs(results[1,:]))\n",
      "print(\"Maximum speed:\", vmax)\n",
      "print(\"Time at maximum speed:\", t[numpy.equal(numpy.abs(results[1,:]), vmax)])\n",
      "print(\"Height at maximum speed:\", results[0,numpy.equal(numpy.abs(results[1,:]), vmax)])\n",
      "\n",
      "hmax = numpy.max(results[0,:])\n",
      "print(\"Maximum height:\", hmax)\n",
      "print(\"Time at maximum height:\", t[numpy.equal(numpy.abs(results[0,:]), hmax)])\n",
      "\n",
      "timpact = t[numpy.less_equal(results[0,:], 0.)][2]\n",
      "print(\"Time of impact:\", timpact)\n",
      "print(\"Velocity at impact:\", results[1,numpy.equal(t, timpact)])"
     ],
     "language": "python",
     "metadata": {},
     "outputs": [
      {
       "output_type": "stream",
       "stream": "stdout",
       "text": [
        "Mass of propellant at t = 3.2s: 36.0\n",
        "Maximum speed: 232.490174554\n",
        "Time at maximum speed: [ 5.001]\n",
        "Height at maximum speed: [ 537.75980961]\n",
        "Maximum height: 1350.44970068\n",
        "Time at maximum height: [ 15.787]\n",
        "Time of impact: 37.349\n",
        "Velocity at impact: [-85.98116603]\n"
       ]
      }
     ],
     "prompt_number": 69
    },
    {
     "cell_type": "code",
     "collapsed": false,
     "input": [],
     "language": "python",
     "metadata": {},
     "outputs": []
    }
   ],
   "metadata": {}
  }
 ]
}